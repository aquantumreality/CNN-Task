{
  "nbformat": 4,
  "nbformat_minor": 0,
  "metadata": {
    "colab": {
      "name": "CNN_ResNet18.ipynb",
      "provenance": [],
      "include_colab_link": true
    },
    "kernelspec": {
      "name": "python3",
      "display_name": "Python 3"
    },
    "language_info": {
      "name": "python"
    },
    "accelerator": "GPU"
  },
  "cells": [
    {
      "cell_type": "markdown",
      "metadata": {
        "id": "view-in-github",
        "colab_type": "text"
      },
      "source": [
        "<a href=\"https://colab.research.google.com/github/Tharun-Anand/CNN-Task/blob/My_Submission/CNN_ResNet18.ipynb\" target=\"_parent\"><img src=\"https://colab.research.google.com/assets/colab-badge.svg\" alt=\"Open In Colab\"/></a>"
      ]
    },
    {
      "cell_type": "code",
      "execution_count": null,
      "metadata": {
        "id": "AE2XRGMAZUuK"
      },
      "outputs": [],
      "source": [
        "from IPython.display import clear_output\n",
        "\n",
        "!pip install pyprind\n",
        "\n",
        "clear_output()"
      ]
    },
    {
      "cell_type": "code",
      "source": [
        "from google.colab.patches import cv2_imshow\n",
        "import cv2\n",
        "from PIL import Image\n",
        "import matplotlib.pyplot as plt\n",
        "\n",
        "\n",
        "import sklearn\n",
        "from sklearn import preprocessing\n",
        "from sklearn.model_selection import train_test_split\n",
        "import numpy as np\n",
        "import pandas as pd\n",
        "import gzip\n",
        "\n",
        "import os\n",
        "import glob\n",
        "import time\n",
        "import random\n",
        "import gc\n",
        "import json\n",
        "import copy\n",
        "import pyprind\n",
        "import tqdm\n",
        "from dataclasses import dataclass, field\n",
        "from typing import Union, List, Dict, Any, Optional, cast\n",
        "\n",
        "import torch\n",
        "import torchvision\n",
        "import torchtext\n",
        "\n",
        "from torchvision import transforms\n",
        "from torch.utils.data import DataLoader\n",
        "import torch.nn as nn\n",
        "import torch.nn.functional as F\n",
        "import torch.optim as optim\n",
        "from torchsummary import summary"
      ],
      "metadata": {
        "id": "Gp--pwAJbgbs"
      },
      "execution_count": null,
      "outputs": []
    },
    {
      "cell_type": "code",
      "source": [
        "!gdown --id 1oYnD7Izl3LVVzjEMyLxLklX30TKWHgGG\n",
        "!unzip /content/cifar-10.zip\n",
        "!rm -rf /content/cifar-10.zip\n",
        "!mv /content/cifar-10/sample_submission.csv /content/cifar-10/test_labels.csv\n",
        "\n",
        "clear_output()"
      ],
      "metadata": {
        "id": "o1Xetthdd342"
      },
      "execution_count": null,
      "outputs": []
    },
    {
      "cell_type": "code",
      "source": [
        "def process():\n",
        "    data = pd.read_csv(os.path.join('/content/cifar-10', 'train_labels.csv'))\n",
        "    encoder = preprocessing.LabelEncoder()\n",
        "    encoder.fit(data['label'])\n",
        "    return encoder\n",
        "\n",
        "encoder = process()"
      ],
      "metadata": {
        "id": "KbirlO1Ybgdp"
      },
      "execution_count": null,
      "outputs": []
    },
    {
      "cell_type": "code",
      "source": [
        "data = pd.read_csv(os.path.join('/content/cifar-10', 'train_labels.csv'))\n",
        "files = data['id']\n",
        "labels = encoder.transform(data['label'])\n",
        "train_data_files, valid_data_files, train_data_label, valid_data_label = train_test_split(files, labels, test_size=0.1, shuffle=True, stratify=labels)\n",
        "\n",
        "train_data = pd.DataFrame({'id': train_data_files, 'label': train_data_label})\n",
        "valid_data = pd.DataFrame({'id': valid_data_files, 'label': valid_data_label})\n",
        "unique, counts = np.unique(labels, return_counts=True)\n",
        "weights = torch.Tensor(sklearn.utils.class_weight.compute_class_weight(class_weight=\"balanced\", classes=unique, y=np.asarray(labels)))"
      ],
      "metadata": {
        "id": "9hBqyyvIeD--"
      },
      "execution_count": null,
      "outputs": []
    },
    {
      "cell_type": "code",
      "source": [
        "data = pd.read_csv(os.path.join('/content/cifar-10', 'test_labels.csv'))\n",
        "test_data_files = data['id']\n",
        "test_data_label = encoder.transform(data['label'])\n",
        "\n",
        "test_data = pd.DataFrame({'id': test_data_files, 'label': test_data_label})"
      ],
      "metadata": {
        "id": "VxW7TtRPeE_L"
      },
      "execution_count": null,
      "outputs": []
    },
    {
      "cell_type": "code",
      "source": [
        "class TrainingArgs():\n",
        "\n",
        "    seed: int = 17\n",
        "    lr: float = 3e-4\n",
        "    batch_size: int = 64\n",
        "    num_workers: int = os.cpu_count()\n",
        "    max_epochs: str = 10\n",
        "    device: torch.device = torch.device(\"cuda\" if torch.cuda.is_available() else \"cpu\")\n",
        "\n",
        "    img_size: int = 64\n",
        "\n",
        "    root_dir: str = '/content/cifar-10'\n",
        "    train_file: dict = train_data\n",
        "    valid_file: dict = valid_data\n",
        "    test_file: dict = test_data\n",
        "    data: tuple = ()\n",
        "    checkpoint: str = '/content/'\n",
        "\n",
        "    project_name: str = 'CIFAR10'\n",
        "\n",
        "args = TrainingArgs()"
      ],
      "metadata": {
        "id": "M6ZCe8tXeIRr"
      },
      "execution_count": null,
      "outputs": []
    },
    {
      "cell_type": "code",
      "source": [
        "class CreateDataset(torch.utils.data.Dataset):\n",
        "    def __init__(self, args, mode='train'):\n",
        "        self.args = args\n",
        "        self.mode = mode\n",
        "\n",
        "        if mode=='train':\n",
        "            self.entry = self.args.train_file\n",
        "        elif mode=='valid':\n",
        "            self.entry = self.args.valid_file\n",
        "            self.mode = 'train'\n",
        "        elif mode=='test':\n",
        "            self.entry = self.args.test_file    \n",
        "\n",
        "        self.transform = torchvision.transforms.Compose(\n",
        "            [\n",
        "                transforms.ToTensor(),\n",
        "                transforms.Normalize((0.4914, 0.4822, 0.4465), (0.2023, 0.1994, 0.2010)),\n",
        "            ]\n",
        "        )\n",
        "\n",
        "    def __getitem__(self, index):\n",
        "        data = self.entry.iloc[index]\n",
        "        file_name = os.path.join(self.args.root_dir, self.mode, str(data['id'])+'.png')\n",
        "        image = Image.open(file_name)\n",
        "        image = self.transform(image)\n",
        "        label = data['label']\n",
        "        return image, label\n",
        "\n",
        "    def __len__(self):\n",
        "        return len(self.entry)"
      ],
      "metadata": {
        "id": "VKNTeQQ7g9y0"
      },
      "execution_count": null,
      "outputs": []
    },
    {
      "cell_type": "code",
      "source": [
        "train_dataset = CreateDataset(args, mode='train')\n",
        "valid_dataset = CreateDataset(args, mode='valid')\n",
        "test_dataset = CreateDataset(args, mode='test')\n",
        "\n",
        "args.data = (train_dataset, valid_dataset, test_dataset)"
      ],
      "metadata": {
        "id": "jTSv75ljhTvg"
      },
      "execution_count": null,
      "outputs": []
    },
    {
      "cell_type": "code",
      "source": [
        "trainloader = DataLoader(train_dataset, batch_size=32, shuffle=True)\n",
        "validloader = DataLoader(valid_dataset, batch_size=32, shuffle=False)\n",
        "testloader = DataLoader(test_dataset, batch_size=32, shuffle=False)"
      ],
      "metadata": {
        "id": "lFzlfQ6khXes"
      },
      "execution_count": null,
      "outputs": []
    },
    {
      "cell_type": "code",
      "source": [
        "data = next(iter(trainloader))"
      ],
      "metadata": {
        "id": "jPu310dBhp56"
      },
      "execution_count": null,
      "outputs": []
    },
    {
      "cell_type": "code",
      "source": [
        "data[0].shape, data[1].shape"
      ],
      "metadata": {
        "id": "i3zqwsobh4u9",
        "colab": {
          "base_uri": "https://localhost:8080/"
        },
        "outputId": "40bc7523-0559-4f66-b12d-873545411b14"
      },
      "execution_count": null,
      "outputs": [
        {
          "output_type": "execute_result",
          "data": {
            "text/plain": [
              "(torch.Size([32, 3, 32, 32]), torch.Size([32]))"
            ]
          },
          "metadata": {},
          "execution_count": 12
        }
      ]
    },
    {
      "cell_type": "code",
      "source": [
        "index = 0\n",
        "\n",
        "image = cv2.resize(data[0][index].permute(1, 2, 0).numpy()*255, (224, 224))\n",
        "label = encoder.inverse_transform(data[1])[index]\n",
        "\n",
        "cv2_imshow(image)\n",
        "print(label)"
      ],
      "metadata": {
        "id": "3Hkzk2H5h7v2",
        "colab": {
          "base_uri": "https://localhost:8080/",
          "height": 258
        },
        "outputId": "7390dfa5-4469-41a1-ce55-f5c623f6bea5"
      },
      "execution_count": null,
      "outputs": [
        {
          "output_type": "display_data",
          "data": {
            "text/plain": [
              "<PIL.Image.Image image mode=RGB size=224x224 at 0x7FB5171D5110>"
            ],
            "image/png": "[encoded data removed]"
          },
          "metadata": {}
        },
        {
          "output_type": "stream",
          "name": "stdout",
          "text": [
            "horse\n"
          ]
        }
      ]
    },
    {
      "cell_type": "code",
      "source": [
        "# 3x3 convolution\n",
        "def conv3x3(in_channels, out_channels, stride=1):\n",
        "    return nn.Conv2d(in_channels, out_channels, kernel_size=3, \n",
        "                     stride=stride, padding=1, bias=False)"
      ],
      "metadata": {
        "id": "2dQIlgTEh_At"
      },
      "execution_count": null,
      "outputs": []
    },
    {
      "cell_type": "code",
      "source": [
        "# Residual block\n",
        "class ResidualBlock(nn.Module):\n",
        "    def __init__(self, in_channels, out_channels, stride=1, downsample=None):\n",
        "        super(ResidualBlock, self).__init__()\n",
        "        self.conv1 = conv3x3(in_channels, out_channels, stride)\n",
        "        self.bn1 = nn.BatchNorm2d(out_channels)\n",
        "        self.relu = nn.ReLU(inplace=True)\n",
        "        self.conv2 = conv3x3(out_channels, out_channels)\n",
        "        self.bn2 = nn.BatchNorm2d(out_channels)\n",
        "        self.downsample = downsample\n",
        "\n",
        "    def forward(self, x):\n",
        "        residual = x\n",
        "        out = self.conv1(x)\n",
        "        out = self.bn1(out)\n",
        "        out = self.relu(out)\n",
        "        out = self.conv2(out)\n",
        "        out = self.bn2(out)\n",
        "        if self.downsample:\n",
        "            residual = self.downsample(x)\n",
        "        out += residual\n",
        "        out = self.relu(out)\n",
        "        return out"
      ],
      "metadata": {
        "id": "uFYjRsYnh_Dh"
      },
      "execution_count": null,
      "outputs": []
    },
    {
      "cell_type": "code",
      "source": [
        "# ResNet\n",
        "class ResNet(nn.Module):\n",
        "    def __init__(self,args, block, layers, num_classes=10):\n",
        "        super(ResNet, self).__init__()\n",
        "        self.in_channels = 16\n",
        "        self.conv = conv3x3(3, 16)\n",
        "        self.bn = nn.BatchNorm2d(16)\n",
        "        self.relu = nn.ReLU(inplace=True)\n",
        "        self.layer1 = self.make_layer(block, 16, layers[0])\n",
        "        self.layer2 = self.make_layer(block, 32, layers[1], 2)\n",
        "        self.layer3 = self.make_layer(block, 64, layers[2], 2)\n",
        "        self.layer4=  self.make_layer(block,128,layers[3],2)\n",
        "        self.avg_pool = nn.AvgPool2d(4)\n",
        "        self.fc = nn.Linear(128, num_classes)\n",
        "\n",
        "    def make_layer(self, block, out_channels, blocks, stride=1):\n",
        "        downsample = None\n",
        "        if (stride != 1) or (self.in_channels != out_channels):\n",
        "            downsample = nn.Sequential(\n",
        "                conv3x3(self.in_channels, out_channels, stride=stride),\n",
        "                nn.BatchNorm2d(out_channels))\n",
        "        layers = []\n",
        "        layers.append(block(self.in_channels, out_channels, stride, downsample))\n",
        "        self.in_channels = out_channels\n",
        "        for i in range(1, blocks):\n",
        "            layers.append(block(out_channels, out_channels))\n",
        "        return nn.Sequential(*layers)\n",
        "\n",
        "    def forward(self, x):\n",
        "        out = self.conv(x)\n",
        "        out = self.bn(out)\n",
        "        out = self.relu(out)\n",
        "        out = self.layer1(out)\n",
        "        out = self.layer2(out)\n",
        "        out = self.layer3(out)\n",
        "        out=  self.layer4(out)\n",
        "        out = self.avg_pool(out)\n",
        "        out = out.view(out.size(0), -1)\n",
        "        out = self.fc(out)\n",
        "        return out"
      ],
      "metadata": {
        "id": "llDU22OiguIy"
      },
      "execution_count": null,
      "outputs": []
    },
    {
      "cell_type": "code",
      "source": [
        "model = ResNet(args,ResidualBlock, [2, 2, 2,2])\n",
        "x = torch.rand((5, 3, 32, 32))\n",
        "out = model(x)\n",
        "print(out.shape)"
      ],
      "metadata": {
        "id": "iQ4IFhirmAUv",
        "colab": {
          "base_uri": "https://localhost:8080/"
        },
        "outputId": "0ca7a961-27b2-4c28-fba1-cafef175acca"
      },
      "execution_count": null,
      "outputs": [
        {
          "output_type": "stream",
          "name": "stdout",
          "text": [
            "torch.Size([5, 10])\n"
          ]
        }
      ]
    },
    {
      "cell_type": "code",
      "source": [
        ""
      ],
      "metadata": {
        "id": "KbaC60VwplCh"
      },
      "execution_count": null,
      "outputs": []
    },
    {
      "cell_type": "code",
      "source": [
        "class Trainer():\n",
        "    def __init__(self, args, architecture):\n",
        "\n",
        "        self.args = args\n",
        "\n",
        "        random.seed(self.args.seed)\n",
        "        np.random.seed(self.args.seed)\n",
        "        torch.manual_seed(self.args.seed)\n",
        "        torch.cuda.manual_seed(self.args.seed)\n",
        "        torch.cuda.manual_seed_all(self.args.seed)\n",
        "\n",
        "        self.trainloader, self.validloader, self.testloader = self.get_iterator(self.args.data)\n",
        "        \n",
        "        self.model = architecture.to(self.args.device) # self.get_model()\n",
        "        self.criterion = self.get_criterion()\n",
        "        self.optimizer = self.get_optimizer()\n",
        "        self.scheduler = self.get_scheduler()\n",
        "\n",
        "        self.train_loss = []\n",
        "        self.train_metrics = {'accuracy': []}\n",
        "        self.valid_loss = []\n",
        "        self.valid_metrics = {'accuracy': []}\n",
        "\n",
        "        self.start_epoch = 0\n",
        "\n",
        "    def get_iterator(self, data):\n",
        "        train, valid, test = data\n",
        "        trainloader = DataLoader(train, batch_size=self.args.batch_size, shuffle=True, num_workers=self.args.num_workers, pin_memory=True, drop_last=True)\n",
        "        validloader = DataLoader(valid, batch_size=self.args.batch_size, shuffle=False, num_workers=self.args.num_workers, pin_memory=True, drop_last=True)\n",
        "        testloader = DataLoader(test, batch_size=self.args.batch_size, shuffle=False, num_workers=self.args.num_workers, pin_memory=True, drop_last=False)\n",
        "        return trainloader, validloader, testloader\n",
        "\n",
        "    def get_criterion(self):\n",
        "        return nn.CrossEntropyLoss(weight=weights).to(self.args.device)\n",
        "    \n",
        "    def get_optimizer(self):\n",
        "        return torch.optim.Adam(self.model.parameters(), lr=self.args.lr)\n",
        "\n",
        "    def get_scheduler(self):\n",
        "        return torch.optim.lr_scheduler.CosineAnnealingLR(self.optimizer, self.args.max_epochs, eta_min=1e-12, last_epoch=-1, verbose=False)\n",
        "\n",
        "    def get_model(self, architecture):\n",
        "        model = ResNet(args).to(self.args.device)\n",
        "        return model\n",
        "\n",
        "    def get_model_params(self):\n",
        "        return sum(p.numel() for p in self.model.parameters())/1e6\n",
        "\n",
        "    def get_accuracy(self, output, label):\n",
        "        return (torch.argmax(output, dim=1)==label).float().sum().item()\n",
        "\n",
        "    def save(self, epoch):\n",
        "        torch.save({\n",
        "            'model_state_dict': self.model.state_dict(),\n",
        "            'optimizer_state_dict': self.optimizer.state_dict(),\n",
        "            }, os.path.join(self.args.checkpoint, \"model.pth\"))\n",
        "        torch.save({\n",
        "            'epoch': epoch,\n",
        "            'args': args,\n",
        "            'loss': (self.train_loss, self.valid_loss),\n",
        "            'metrics': (self.train_metrics, self.valid_metrics)\n",
        "            }, os.path.join(self.args.checkpoint, \"metrics.pth\"))\n",
        "        \n",
        "    def load(self):\n",
        "        if os.path.exists(os.path.join(self.args.checkpoint, \"model.pth\")):\n",
        "            checkpoints = torch.load(os.path.join(self.args.checkpoint, \"model.pth\"), map_location=self.args.device)\n",
        "            self.model.load_state_dict(checkpoints['model_state_dict'])\n",
        "            self.optimizer.load_state_dict(checkpoints['optimizer_state_dict'])\n",
        "\n",
        "        if os.path.exists(os.path.join(self.args.checkpoint, \"metrics.pth\")):\n",
        "            checkpoints = torch.load(os.path.join(self.args.checkpoint, \"metrics.pth\"), map_location=self.args.device)\n",
        "            self.args = checkpoints['args']\n",
        "            self.train_loss, self.valid_loss = checkpoints['loss']\n",
        "            self.train_metrics, self.valid_metrics = checkpoints['metrics']\n",
        "            return checkpoints['epoch']\n",
        "        return 0\n",
        "\n",
        "    def train(self):\n",
        "        epoch_loss = 0\n",
        "        epoch_metrics = {'accuracy': 0}\n",
        "\n",
        "        gc.collect()\n",
        "        torch.cuda.empty_cache()\n",
        "        self.model.train()\n",
        "\n",
        "        with torch.autograd.set_detect_anomaly(True):\n",
        "            bar = pyprind.ProgBar(len(self.trainloader), bar_char='█')\n",
        "            for index, (data, label) in enumerate(self.trainloader):\n",
        "                data = data.to(self.args.device).float()\n",
        "                label = label.long().to(self.args.device)\n",
        "\n",
        "                self.optimizer.zero_grad()\n",
        "                \n",
        "                output = self.model(data)\n",
        "\n",
        "                loss = self.criterion(output, label)\n",
        "\n",
        "                loss.backward()\n",
        "\n",
        "                self.optimizer.step()\n",
        "\n",
        "                epoch_loss += loss.item()/len(self.trainloader)\n",
        "\n",
        "                epoch_metrics['accuracy'] += self.get_accuracy(output, label)/len(self.args.data[0])\n",
        "\n",
        "                bar.update()\n",
        "                gc.collect()\n",
        "                torch.cuda.empty_cache()\n",
        "\n",
        "        return epoch_loss, epoch_metrics\n",
        "\n",
        "    def evaluate(self):\n",
        "        epoch_loss = 0\n",
        "        epoch_metrics = {'accuracy': 0}\n",
        "\n",
        "        gc.collect()\n",
        "        torch.cuda.empty_cache()\n",
        "        self.model.eval()\n",
        "\n",
        "        with torch.autograd.set_detect_anomaly(True):\n",
        "            with torch.no_grad():\n",
        "                bar = pyprind.ProgBar(len(self.validloader), bar_char='█')\n",
        "                for index, (data, label) in enumerate(self.validloader):\n",
        "                    data = data.to(self.args.device).float()\n",
        "                    label = label.long().to(self.args.device)\n",
        "\n",
        "                    output = self.model(data)\n",
        "\n",
        "                    loss = self.criterion(output, label)\n",
        "\n",
        "                    epoch_loss += loss.item()/len(self.validloader)\n",
        "                    epoch_metrics['accuracy'] += self.get_accuracy(output, label)/len(self.args.data[1])\n",
        "\n",
        "                    bar.update()\n",
        "                    gc.collect()\n",
        "                    torch.cuda.empty_cache()\n",
        "\n",
        "        return epoch_loss, epoch_metrics\n",
        "\n",
        "    def test(self):\n",
        "\n",
        "        gc.collect()\n",
        "        torch.cuda.empty_cache()\n",
        "        self.model.eval()\n",
        "\n",
        "        outputs = torch.empty([0,])\n",
        "\n",
        "        with torch.autograd.set_detect_anomaly(True):\n",
        "            with torch.no_grad():\n",
        "                bar = pyprind.ProgBar(len(self.testloader), bar_char='█')\n",
        "                for index, (data, label) in enumerate(self.testloader):\n",
        "                    data = data.to(self.args.device)\n",
        "\n",
        "                    output = torch.argmax(self.model(data)).detach().cpu()\n",
        "                    outputs = torch.cat((outputs, output), dim=0)\n",
        "\n",
        "                    bar.update()\n",
        "                    gc.collect()\n",
        "                    torch.cuda.empty_cache()\n",
        "\n",
        "        return outputs\n",
        "    \n",
        "    def fit(self, next=True):\n",
        "        if next:\n",
        "            self.start_epoch = self.load()\n",
        "\n",
        "        for epoch in range(self.start_epoch+1, self.args.max_epochs+1, 1):\n",
        "\n",
        "            epoch_train_loss, epoch_train_metrics = self.train()\n",
        "            epoch_train_accuracy = epoch_train_metrics['accuracy']\n",
        "\n",
        "            self.train_loss.append(epoch_train_loss)\n",
        "            self.train_metrics['accuracy'].append(epoch_train_metrics['accuracy'])\n",
        "\n",
        "            epoch_valid_loss, epoch_valid_metrics = self.evaluate()\n",
        "            epoch_valid_accuracy = epoch_valid_metrics['accuracy']\n",
        "\n",
        "            \n",
        "            self.valid_loss.append(epoch_valid_loss)\n",
        "            self.valid_metrics['accuracy'].append(epoch_valid_metrics['accuracy']) \n",
        "\n",
        "            self.scheduler.step()\n",
        "            for param_group in self.optimizer.param_groups:\n",
        "                self.args.lr = param_group['lr']\n",
        "            if epoch_valid_metrics['accuracy'] >= max(self.valid_metrics['accuracy']):\n",
        "                self.save(epoch)\n",
        "\n",
        "            time.sleep(1)\n",
        "            print(f'Epoch {epoch}/{self.args.max_epochs} | Training: Loss = {round(epoch_train_loss, 4)}  Accuracy = {round(epoch_train_accuracy, 4)} | Validation: Loss = {round(epoch_valid_loss, 4)}  Accuracy = {round(epoch_valid_accuracy, 4)}')"
      ],
      "metadata": {
        "id": "U9sm8odkGgMz"
      },
      "execution_count": null,
      "outputs": []
    },
    {
      "cell_type": "code",
      "source": [
        "trainer = Trainer(args, architecture=ResNet(args,ResidualBlock, [2, 2, 2,2]))"
      ],
      "metadata": {
        "id": "r0OjovKYqKt0"
      },
      "execution_count": null,
      "outputs": []
    },
    {
      "cell_type": "code",
      "source": [
        "trainer.fit()"
      ],
      "metadata": {
        "id": "v_nrtKR_qkzJ",
        "colab": {
          "base_uri": "https://localhost:8080/"
        },
        "outputId": "d7e28a9d-0a56-4546-8612-6c970e724d15"
      },
      "execution_count": null,
      "outputs": [
        {
          "output_type": "stream",
          "name": "stderr",
          "text": [
            "0% [██████████████████████████████] 100% | ETA: 00:00:00\n",
            "Total time elapsed: 00:01:45\n",
            "0% [██████████████████████████████] 100% | ETA: 00:00:00\n",
            "Total time elapsed: 00:00:06\n"
          ]
        },
        {
          "output_type": "stream",
          "name": "stdout",
          "text": [
            "Epoch 1/10 | Training: Loss = 1.3628  Accuracy = 0.5046 | Validation: Loss = 1.1004  Accuracy = 0.608\n"
          ]
        },
        {
          "output_type": "stream",
          "name": "stderr",
          "text": [
            "0% [██████████████████████████████] 100% | ETA: 00:00:00\n",
            "Total time elapsed: 00:01:43\n",
            "0% [██████████████████████████████] 100% | ETA: 00:00:00\n",
            "Total time elapsed: 00:00:06\n"
          ]
        },
        {
          "output_type": "stream",
          "name": "stdout",
          "text": [
            "Epoch 2/10 | Training: Loss = 0.9317  Accuracy = 0.6702 | Validation: Loss = 0.9945  Accuracy = 0.6512\n"
          ]
        },
        {
          "output_type": "stream",
          "name": "stderr",
          "text": [
            "0% [██████████████████████████████] 100% | ETA: 00:00:00\n",
            "Total time elapsed: 00:01:44\n",
            "0% [██████████████████████████████] 100% | ETA: 00:00:00\n",
            "Total time elapsed: 00:00:06\n"
          ]
        },
        {
          "output_type": "stream",
          "name": "stdout",
          "text": [
            "Epoch 3/10 | Training: Loss = 0.7336  Accuracy = 0.7411 | Validation: Loss = 0.8269  Accuracy = 0.704\n"
          ]
        },
        {
          "output_type": "stream",
          "name": "stderr",
          "text": [
            "0% [██████████████████████████████] 100% | ETA: 00:00:00\n",
            "Total time elapsed: 00:01:43\n",
            "0% [██████████████████████████████] 100% | ETA: 00:00:00\n",
            "Total time elapsed: 00:00:06\n"
          ]
        },
        {
          "output_type": "stream",
          "name": "stdout",
          "text": [
            "Epoch 4/10 | Training: Loss = 0.579  Accuracy = 0.7982 | Validation: Loss = 0.7901  Accuracy = 0.7192\n"
          ]
        },
        {
          "output_type": "stream",
          "name": "stderr",
          "text": [
            "0% [██████████████████████████████] 100% | ETA: 00:00:00\n",
            "Total time elapsed: 00:01:43\n",
            "0% [██████████████████████████████] 100% | ETA: 00:00:00\n",
            "Total time elapsed: 00:00:06\n"
          ]
        },
        {
          "output_type": "stream",
          "name": "stdout",
          "text": [
            "Epoch 5/10 | Training: Loss = 0.4351  Accuracy = 0.8533 | Validation: Loss = 0.7324  Accuracy = 0.7476\n"
          ]
        },
        {
          "output_type": "stream",
          "name": "stderr",
          "text": [
            "0% [██████████████████████████████] 100% | ETA: 00:00:00\n",
            "Total time elapsed: 00:01:43\n",
            "0% [██████████████████████████████] 100% | ETA: 00:00:00\n",
            "Total time elapsed: 00:00:06\n"
          ]
        },
        {
          "output_type": "stream",
          "name": "stdout",
          "text": [
            "Epoch 6/10 | Training: Loss = 0.2988  Accuracy = 0.9014 | Validation: Loss = 0.7454  Accuracy = 0.7502\n"
          ]
        },
        {
          "output_type": "stream",
          "name": "stderr",
          "text": [
            "0% [██████████████████████████████] 100% | ETA: 00:00:00\n",
            "Total time elapsed: 00:01:43\n",
            "0% [██████████████████████████████] 100% | ETA: 00:00:00\n",
            "Total time elapsed: 00:00:06\n"
          ]
        },
        {
          "output_type": "stream",
          "name": "stdout",
          "text": [
            "Epoch 7/10 | Training: Loss = 0.177  Accuracy = 0.9467 | Validation: Loss = 0.7634  Accuracy = 0.7616\n"
          ]
        },
        {
          "output_type": "stream",
          "name": "stderr",
          "text": [
            "0% [██████████████████████████████] 100% | ETA: 00:00:00\n",
            "Total time elapsed: 00:01:41\n",
            "0% [██████████████████████████████] 100% | ETA: 00:00:00\n",
            "Total time elapsed: 00:00:06\n"
          ]
        },
        {
          "output_type": "stream",
          "name": "stdout",
          "text": [
            "Epoch 8/10 | Training: Loss = 0.0949  Accuracy = 0.9786 | Validation: Loss = 0.7718  Accuracy = 0.7702\n"
          ]
        },
        {
          "output_type": "stream",
          "name": "stderr",
          "text": [
            "0% [██████████████████████████████] 100% | ETA: 00:00:00\n",
            "Total time elapsed: 00:01:43\n",
            "0% [██████████████████████████████] 100% | ETA: 00:00:00\n",
            "Total time elapsed: 00:00:06\n"
          ]
        },
        {
          "output_type": "stream",
          "name": "stdout",
          "text": [
            "Epoch 9/10 | Training: Loss = 0.0535  Accuracy = 0.9924 | Validation: Loss = 0.7882  Accuracy = 0.7712\n"
          ]
        },
        {
          "output_type": "stream",
          "name": "stderr",
          "text": [
            "0% [██████████████████████████████] 100% | ETA: 00:00:00\n",
            "Total time elapsed: 00:01:42\n",
            "0% [██████████████████████████████] 100% | ETA: 00:00:00\n",
            "Total time elapsed: 00:00:06\n"
          ]
        },
        {
          "output_type": "stream",
          "name": "stdout",
          "text": [
            "Epoch 10/10 | Training: Loss = 0.0388  Accuracy = 0.997 | Validation: Loss = 0.7987  Accuracy = 0.7716\n"
          ]
        }
      ]
    }
  ]
}
